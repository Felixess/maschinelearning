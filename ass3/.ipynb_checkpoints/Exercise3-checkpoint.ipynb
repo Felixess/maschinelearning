{
 "cells": [
  {
   "cell_type": "code",
   "execution_count": 1,
   "id": "ace6a5a4",
   "metadata": {},
   "outputs": [],
   "source": [
    "import numpy as np\n",
    "from sklearn.datasets import fetch_openml\n",
    "from sklearn.model_selection import train_test_split\n",
    "from sklearn.preprocessing import StandardScaler\n",
    "from sklearn.svm import SVC\n",
    "from sklearn.multiclass import OneVsOneClassifier, OneVsRestClassifier\n",
    "from sklearn.metrics import accuracy_score, confusion_matrix"
   ]
  },
  {
   "cell_type": "code",
   "execution_count": 2,
   "id": "e8b5e4dc",
   "metadata": {},
   "outputs": [],
   "source": [
    "# Fetch MNIST_784 dataset\n",
    "mnist = fetch_openml('MNIST_784', version=1, cache=True, parser='auto')\n",
    "X, y = mnist[\"data\"], mnist[\"target\"]\n",
    "\n",
    "# Reduce the dataset to a smaller subset\n",
    "subset_size = 5000\n",
    "X_subset, _, y_subset, _ = train_test_split(X, y, train_size=subset_size, stratify=y, random_state=42)\n",
    "\n",
    "# Split the dataset into train and test sets\n",
    "X_train, X_test, y_train, y_test = train_test_split(X_subset, y_subset, test_size=0.2, random_state=42)"
   ]
  },
  {
   "cell_type": "code",
   "execution_count": 3,
   "id": "bd5cdff0",
   "metadata": {},
   "outputs": [
    {
     "name": "stdout",
     "output_type": "stream",
     "text": [
      "Test Accuracy: 0.929\n"
     ]
    }
   ],
   "source": [
    "# Scale features using StandardScaler\n",
    "scaler = StandardScaler()\n",
    "X_train = scaler.fit_transform(X_train)\n",
    "X_test = scaler.transform(X_test)\n",
    "\n",
    "# Train SVM with RBF kernel\n",
    "svm_rbf = SVC(kernel='rbf')\n",
    "svm_rbf.fit(X_train, y_train)\n",
    "\n",
    "# Evaluate test accuracy\n",
    "y_pred = svm_rbf.predict(X_test)\n",
    "test_accuracy = accuracy_score(y_test, y_pred)\n",
    "print(\"Test Accuracy:\", test_accuracy)"
   ]
  },
  {
   "cell_type": "code",
   "execution_count": 4,
   "id": "9d574dc7",
   "metadata": {},
   "outputs": [
    {
     "name": "stdout",
     "output_type": "stream",
     "text": [
      "Confusion Matrix:\n",
      "[[103   0   2   0   0   0   1   0   0   0]\n",
      " [  0 110   2   0   0   0   0   1   0   0]\n",
      " [  0   1 102   1   0   1   0   1   0   0]\n",
      " [  1   1   5  84   0   2   1   0   3   0]\n",
      " [  0   0   2   0  87   0   0   0   0   3]\n",
      " [  0   0   4   0   0  88   0   0   1   0]\n",
      " [  3   0   3   0   0   1 100   0   1   0]\n",
      " [  0   1   1   0   0   0   0  89   0   4]\n",
      " [  1   2   4   1   0   4   0   0  74   1]\n",
      " [  0   0   2   2   2   1   0   4   0  92]]\n"
     ]
    }
   ],
   "source": [
    "# Confusion matrix\n",
    "conf_matrix = confusion_matrix(y_test, y_pred)\n",
    "print(\"Confusion Matrix:\")\n",
    "print(conf_matrix)"
   ]
  },
  {
   "cell_type": "code",
   "execution_count": 5,
   "id": "4acb37f5",
   "metadata": {},
   "outputs": [
    {
     "name": "stdout",
     "output_type": "stream",
     "text": [
      "One-vs-One Accuracy: 0.924\n",
      "One-vs-All Accuracy: 0.928\n"
     ]
    }
   ],
   "source": [
    "# One-vs-One SVM\n",
    "ovo_svm = OneVsOneClassifier(svm_rbf)\n",
    "ovo_svm.fit(X_train, y_train)\n",
    "\n",
    "# One-vs-All SVM\n",
    "ova_svm = OneVsRestClassifier(svm_rbf)\n",
    "ova_svm.fit(X_train, y_train)\n",
    "\n",
    "# Predictions for One-vs-One and One-vs-All\n",
    "y_pred_ovo = ovo_svm.predict(X_test)\n",
    "y_pred_ova = ova_svm.predict(X_test)\n",
    "\n",
    "# Accuracy for One-vs-One and One-vs-All\n",
    "ovo_accuracy = accuracy_score(y_test, y_pred_ovo)\n",
    "ova_accuracy = accuracy_score(y_test, y_pred_ova)\n",
    "\n",
    "print(\"One-vs-One Accuracy:\", ovo_accuracy)\n",
    "print(\"One-vs-All Accuracy:\", ova_accuracy)"
   ]
  }
 ],
 "metadata": {
  "kernelspec": {
   "display_name": "Python 3 (ipykernel)",
   "language": "python",
   "name": "python3"
  },
  "language_info": {
   "codemirror_mode": {
    "name": "ipython",
    "version": 3
   },
   "file_extension": ".py",
   "mimetype": "text/x-python",
   "name": "python",
   "nbconvert_exporter": "python",
   "pygments_lexer": "ipython3",
   "version": "3.10.9"
  }
 },
 "nbformat": 4,
 "nbformat_minor": 5
}
