{
 "cells": [
  {
   "cell_type": "code",
   "execution_count": 1,
   "id": "66c4a615",
   "metadata": {},
   "outputs": [],
   "source": [
    "import numpy as np\n",
    "import matplotlib.pyplot as plt\n",
    "from sklearn.datasets import make_blobs\n",
    "from scipy.spatial.distance import pdist"
   ]
  },
  {
   "cell_type": "code",
   "execution_count": 2,
   "id": "006cfb4c",
   "metadata": {},
   "outputs": [],
   "source": [
    "def sammon(X, iter_max, error_threshold, learning_rate):\n",
    "    n_samples, n_features = X.shape\n",
    "    \n",
    "    # Step 1: Initialize a random two-dimensional layout Y of points\n",
    "    y = np.random.normal(1, 5, [n_samples, 2])\n",
    "\n",
    "    distX = pdist(X, 'euclidean')\n",
    "    sum_delta_ij = np.sum(distX)\n",
    "\n",
    "    for _ in range(iter_max):\n",
    "        # Step 2: Compute the stress E of Y\n",
    "        distY = pdist(y, 'euclidean')\n",
    "        sum_distance = np.sum(((distX - distY) ** 2) / distX)\n",
    "        stress = sum_distance / sum_delta_ij\n",
    "\n",
    "         # Step 3: If E < error_threshold or maximum iterations reached, stop\n",
    "        if stress < error_threshold:\n",
    "            return y\n",
    "\n",
    "        gradient1 = np.zeros((n_samples, 2))\n",
    "        gradient2 = np.zeros((n_samples, 2))\n",
    "\n",
    "        for i in range(n_samples):\n",
    "            for j in range(n_samples):\n",
    "                if j != i:\n",
    "                    X_diff = X[i] - X[j]\n",
    "                    y_diff = y[i] - y[j]\n",
    "                    delta_ij = np.sqrt(np.sum(X_diff ** 2))\n",
    "                    d_ij = np.sqrt(np.sum(y_diff ** 2))\n",
    "                    divergence = delta_ij - d_ij\n",
    "                    denominator = d_ij * delta_ij\n",
    "\n",
    "                    # Handling division by zero\n",
    "                    if denominator < 1e-6:\n",
    "                        denominator = 1e-6\n",
    "\n",
    "                    # Calculating the gradients\n",
    "                    gradient1[i] += (divergence / denominator) * y_diff\n",
    "                    gradient2[i] += (1 / denominator) * (\n",
    "                            divergence - ((y_diff ** 2) / d_ij) * (1 + divergence / d_ij))\n",
    "\n",
    "        # Step 4: Update yi(t + 1) based on the current yi(t)\n",
    "        deltai_t = -2 * learning_rate * gradient1 / np.abs(gradient2)\n",
    "        y += deltai_t\n",
    "\n",
    "    return y"
   ]
  },
  {
   "cell_type": "code",
   "execution_count": 3,
   "id": "8fd33d75",
   "metadata": {},
   "outputs": [
    {
     "data": {
      "image/png": "[encoded data removed]",
      "text/plain": [
       "<Figure size 640x480 with 1 Axes>"
      ]
     },
     "metadata": {},
     "output_type": "display_data"
    }
   ],
   "source": [
    "X, y = make_blobs(n_samples=20, n_features=3)\n",
    "embedding = sammon(X, iter_max=100, error_threshold=0.0, learning_rate=0.3)\n",
    "\n",
    "plt.figure(1)\n",
    "plt.scatter(embedding[:, 0], embedding[:, 1], c=y, cmap='rainbow')\n",
    "plt.show()"
   ]
  }
 ],
 "metadata": {
  "kernelspec": {
   "display_name": "Python 3 (ipykernel)",
   "language": "python",
   "name": "python3"
  },
  "language_info": {
   "codemirror_mode": {
    "name": "ipython",
    "version": 3
   },
   "file_extension": ".py",
   "mimetype": "text/x-python",
   "name": "python",
   "nbconvert_exporter": "python",
   "pygments_lexer": "ipython3",
   "version": "3.10.9"
  }
 },
 "nbformat": 4,
 "nbformat_minor": 5
}
