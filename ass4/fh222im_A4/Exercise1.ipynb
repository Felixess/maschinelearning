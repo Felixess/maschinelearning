{
 "cells": [
  {
   "cell_type": "code",
   "execution_count": 1,
   "id": "ce7badaa",
   "metadata": {},
   "outputs": [],
   "source": [
    "import numpy as np\n",
    "import pandas as pd\n",
    "from sklearn.cluster import KMeans\n",
    "import os"
   ]
  },
  {
   "cell_type": "code",
   "execution_count": 2,
   "id": "698cc648",
   "metadata": {},
   "outputs": [],
   "source": [
    "def bisecting_kmeans(X, k, iter):\n",
    "    n = X.shape[0]\n",
    "    cluster_indices = np.zeros(n)\n",
    "\n",
    "    # Step 1: Start with a single cluster including all observations\n",
    "    current_cluster = 0\n",
    "    clusters = [X]\n",
    "\n",
    "    # Iterate until we have k clusters\n",
    "    while len(clusters) < k:\n",
    "        best_sse = np.inf\n",
    "        best_subclusters = []\n",
    "\n",
    "        # Step 2: Bisect the largest cluster using K-Means\n",
    "        largest_cluster = clusters[current_cluster]\n",
    "        kmeans = KMeans(n_clusters=2, max_iter=iter, n_init=1, random_state=0)\n",
    "        kmeans.fit(largest_cluster[:, :-1])\n",
    "        labels = kmeans.labels_\n",
    "        centroids = kmeans.cluster_centers_\n",
    "\n",
    "        # Calculate the Sum of Squared Errors (SSE)\n",
    "        sse = np.sum((largest_cluster[:, :-1] - centroids[labels]) ** 2)\n",
    "\n",
    "        # Store the best sub-clusters with minimum SSE\n",
    "        if sse < best_sse:\n",
    "            best_sse = sse\n",
    "            best_subclusters = [largest_cluster[labels == 0], largest_cluster[labels == 1]]\n",
    "\n",
    "        # Update the current cluster with the best sub-clusters\n",
    "        clusters[current_cluster] = best_subclusters[0]\n",
    "        clusters.append(best_subclusters[1])\n",
    "\n",
    "        # Remove the largest cluster from the list of clusters\n",
    "        clusters = [cluster for cluster in clusters if not np.array_equal(cluster, largest_cluster)]\n",
    "\n",
    "    # Assign cluster indices to observations\n",
    "    for i, cluster in enumerate(clusters):\n",
    "        cluster_indices[np.isin(X, cluster).all(axis=1)] = i\n",
    "\n",
    "    return cluster_indices"
   ]
  },
  {
   "cell_type": "code",
   "execution_count": null,
   "id": "e9aa6289",
   "metadata": {},
   "outputs": [],
   "source": [
    "# Set the OMP_NUM_THREADS environment variable to 1\n",
    "os.environ['OMP_NUM_THREADS'] = '1'\n",
    "\n",
    "# Load the dataset into a Pandas dataframe\n",
    "df = pd.read_csv('dist.csv', delimiter=';', header=None, names=['x', 'y', 'class'])\n",
    "\n",
    "# Apply Bisecting k-Means clustering\n",
    "k = 3  # Number of clusters\n",
    "iter = 10  # Number of iterations for step 3\n",
    "X = df.values  # Convert dataframe to numpy array\n",
    "cluster_indices = bisecting_kmeans(X, k, iter)\n",
    "\n",
    "print(cluster_indices)"
   ]
  }
 ],
 "metadata": {
  "kernelspec": {
   "display_name": "Python 3 (ipykernel)",
   "language": "python",
   "name": "python3"
  },
  "language_info": {
   "codemirror_mode": {
    "name": "ipython",
    "version": 3
   },
   "file_extension": ".py",
   "mimetype": "text/x-python",
   "name": "python",
   "nbconvert_exporter": "python",
   "pygments_lexer": "ipython3",
   "version": "3.10.9"
  }
 },
 "nbformat": 4,
 "nbformat_minor": 5
}
